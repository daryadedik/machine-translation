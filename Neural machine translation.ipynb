{
 "cells": [
  {
   "cell_type": "markdown",
   "metadata": {},
   "source": [
    "Neural machine translation background, seq2seq model"
   ]
  },
  {
   "cell_type": "code",
   "execution_count": 18,
   "metadata": {},
   "outputs": [],
   "source": [
    "import numpy as np\n",
    "import pandas as pd\n",
    "\n",
    "import nltk\n",
    "from nltk.stem import PorterStemmer\n",
    "from nltk.tokenize import sent_tokenize, word_tokenize\n",
    "from nltk.corpus import stopwords"
   ]
  },
  {
   "cell_type": "markdown",
   "metadata": {},
   "source": [
    "Data from the German-English translation task of the IWSLT evaluation campaign: http://phontron.com/data/iwslt-en-de-preprocessed.tar.gz."
   ]
  },
  {
   "cell_type": "code",
   "execution_count": 2,
   "metadata": {},
   "outputs": [],
   "source": [
    "with open('./en-de/train.en-de.en', 'r') as myfile:\n",
    "    data = myfile.read().replace('\\n', '')"
   ]
  },
  {
   "cell_type": "code",
   "execution_count": 15,
   "metadata": {},
   "outputs": [
    {
     "name": "stdout",
     "output_type": "stream",
     "text": [
      "With vibrant video clips captured by submarines, David Gallo takes us to some of Earth's darkest, most violent, toxic and beautiful habitats, the valleys and volcanic ridges of the oceans' depths, where life is bizarre, resilient and shockingly abundant.David Gallo: This is Bill Lange. I'm Dave Gallo.And we're going to tell you some stories from the sea here in video.We've got some of the most incredible video of Titanic that's ever been seen, and we're not going to show you any of it.The truth of the matter is that the Titanic -- even though it's breaking all sorts of box office records -- it's not the most exciting story from the sea.And the problem, I think, is that we take the ocean for granted.When you think about it, the oceans are 75 percent of the planet.Most of the planet is ocean water.The average depth is about two miles.Part of the problem, I think, is we stand at the beach, or we see images like this of the ocean, and you look out at this great big blue expanse, and it's s\n"
     ]
    }
   ],
   "source": [
    "print(data[:1000])"
   ]
  },
  {
   "cell_type": "markdown",
   "metadata": {},
   "source": [
    "Data pre-processing: stemming, stop-words removal, tokenization."
   ]
  },
  {
   "cell_type": "code",
   "execution_count": 23,
   "metadata": {},
   "outputs": [],
   "source": [
    "stop = set(stopwords.words('english'))\n",
    "data_wo_stopwords = [i for i in data[:1000].lower().split() if i not in stop]"
   ]
  },
  {
   "cell_type": "code",
   "execution_count": 25,
   "metadata": {},
   "outputs": [
    {
     "name": "stdout",
     "output_type": "stream",
     "text": [
      "['vibrant', 'video', 'clips', 'captured', 'submarines,', 'david', 'gallo', 'takes', 'us', \"earth's\", 'darkest,', 'violent,', 'toxic', 'beautiful', 'habitats,', 'valleys', 'volcanic', 'ridges', \"oceans'\", 'depths,', 'life', 'bizarre,', 'resilient', 'shockingly', 'abundant.david', 'gallo:', 'bill', 'lange.', \"i'm\", 'dave', 'gallo.and', \"we're\", 'going', 'tell', 'stories', 'sea', \"video.we've\", 'got', 'incredible', 'video', 'titanic', \"that's\", 'ever', 'seen,', \"we're\", 'going', 'show', 'it.the', 'truth', 'matter', 'titanic', '--', 'even', 'though', \"it's\", 'breaking', 'sorts', 'box', 'office', 'records', '--', \"it's\", 'exciting', 'story', 'sea.and', 'problem,', 'think,', 'take', 'ocean', 'granted.when', 'think', 'it,', 'oceans', '75', 'percent', 'planet.most', 'planet', 'ocean', 'water.the', 'average', 'depth', 'two', 'miles.part', 'problem,', 'think,', 'stand', 'beach,', 'see', 'images', 'like', 'ocean,', 'look', 'great', 'big', 'blue', 'expanse,', \"it's\"]\n"
     ]
    }
   ],
   "source": [
    "print(data_wo_stopwords[:100])"
   ]
  },
  {
   "cell_type": "code",
   "execution_count": 12,
   "metadata": {
    "collapsed": true
   },
   "outputs": [],
   "source": [
    "ps = PorterStemmer()"
   ]
  },
  {
   "cell_type": "code",
   "execution_count": 26,
   "metadata": {
    "collapsed": true
   },
   "outputs": [],
   "source": [
    "example_words = data_wo_stopwords[:1000]\n",
    "data_stemmed = [ps.stem(i) for i in data_wo_stopwords]"
   ]
  },
  {
   "cell_type": "code",
   "execution_count": 28,
   "metadata": {},
   "outputs": [
    {
     "name": "stdout",
     "output_type": "stream",
     "text": [
      "['vibrant', 'video', 'clip', 'captur', 'submarines,', 'david', 'gallo', 'take', 'us', \"earth'\", 'darkest,', 'violent,', 'toxic', 'beauti', 'habitats,', 'valley', 'volcan', 'ridg', \"oceans'\", 'depths,', 'life', 'bizarre,', 'resili', 'shockingli', 'abundant.david', 'gallo:', 'bill', 'lange.', \"i'm\", 'dave', 'gallo.and', \"we'r\", 'go', 'tell', 'stori', 'sea', \"video.we'v\", 'got', 'incred', 'video', 'titan', \"that'\", 'ever', 'seen,', \"we'r\", 'go', 'show', 'it.th', 'truth', 'matter', 'titan', '--', 'even', 'though', \"it'\", 'break', 'sort', 'box', 'offic', 'record', '--', \"it'\", 'excit', 'stori', 'sea.and', 'problem,', 'think,', 'take', 'ocean', 'granted.when', 'think', 'it,', 'ocean', '75', 'percent', 'planet.most', 'planet', 'ocean', 'water.th', 'averag', 'depth', 'two', 'miles.part', 'problem,', 'think,', 'stand', 'beach,', 'see', 'imag', 'like', 'ocean,', 'look', 'great', 'big', 'blue', 'expanse,', \"it'\"]\n"
     ]
    }
   ],
   "source": [
    "print(data_stemmed[:100])"
   ]
  }
 ],
 "metadata": {
  "kernelspec": {
   "display_name": "Python 3",
   "language": "python",
   "name": "python3"
  },
  "language_info": {
   "codemirror_mode": {
    "name": "ipython",
    "version": 3
   },
   "file_extension": ".py",
   "mimetype": "text/x-python",
   "name": "python",
   "nbconvert_exporter": "python",
   "pygments_lexer": "ipython3",
   "version": "3.6.1"
  }
 },
 "nbformat": 4,
 "nbformat_minor": 2
}
